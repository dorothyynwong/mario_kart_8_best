{
 "cells": [
  {
   "cell_type": "code",
   "execution_count": 1,
   "id": "64e12fe3",
   "metadata": {
    "_cell_guid": "b1076dfc-b9ad-4769-8c92-a6c4dae69d19",
    "_uuid": "8f2839f25d086af736a60e9eeb907d3b93b6e0e5",
    "execution": {
     "iopub.execute_input": "2022-04-14T14:18:50.206486Z",
     "iopub.status.busy": "2022-04-14T14:18:50.205181Z",
     "iopub.status.idle": "2022-04-14T14:18:51.317216Z",
     "shell.execute_reply": "2022-04-14T14:18:51.316095Z",
     "shell.execute_reply.started": "2022-04-14T14:18:00.595024Z"
    },
    "papermill": {
     "duration": 1.151229,
     "end_time": "2022-04-14T14:18:51.317467",
     "exception": false,
     "start_time": "2022-04-14T14:18:50.166238",
     "status": "completed"
    },
    "tags": []
   },
   "outputs": [],
   "source": [
    "import numpy as np # linear algebra\n",
    "import pandas as pd # data processing, CSV file I/O (e.g. pd.read_csv)\n",
    "import os\n",
    "from pathlib import Path\n",
    "import matplotlib.pyplot as plt\n",
    "import seaborn as sns\n",
    "from scipy import stats\n",
    "from scipy.stats import norm, skew #for some statistics"
   ]
  },
  {
   "cell_type": "code",
   "execution_count": 2,
   "id": "d4b0623b",
   "metadata": {
    "execution": {
     "iopub.execute_input": "2022-04-14T14:18:51.391227Z",
     "iopub.status.busy": "2022-04-14T14:18:51.390191Z",
     "iopub.status.idle": "2022-04-14T14:18:51.470537Z",
     "shell.execute_reply": "2022-04-14T14:18:51.469955Z",
     "shell.execute_reply.started": "2022-04-14T14:18:00.675034Z"
    },
    "papermill": {
     "duration": 0.11836,
     "end_time": "2022-04-14T14:18:51.470688",
     "exception": false,
     "start_time": "2022-04-14T14:18:51.352328",
     "status": "completed"
    },
    "tags": []
   },
   "outputs": [],
   "source": [
    "data_dir = Path(\"../input/home-data-for-ml-course/\")\n",
    "df_train = pd.read_csv(data_dir / \"train.csv\")\n",
    "df_test = pd.read_csv(data_dir / \"test.csv\")"
   ]
  },
  {
   "cell_type": "code",
   "execution_count": 3,
   "id": "d2c92e0c",
   "metadata": {
    "execution": {
     "iopub.execute_input": "2022-04-14T14:18:51.556205Z",
     "iopub.status.busy": "2022-04-14T14:18:51.555112Z",
     "iopub.status.idle": "2022-04-14T14:18:51.582915Z",
     "shell.execute_reply": "2022-04-14T14:18:51.583638Z",
     "shell.execute_reply.started": "2022-04-14T14:18:00.757933Z"
    },
    "papermill": {
     "duration": 0.077792,
     "end_time": "2022-04-14T14:18:51.583861",
     "exception": false,
     "start_time": "2022-04-14T14:18:51.506069",
     "status": "completed"
    },
    "tags": []
   },
   "outputs": [
    {
     "data": {
      "text/html": [
       "<div>\n",
       "<style scoped>\n",
       "    .dataframe tbody tr th:only-of-type {\n",
       "        vertical-align: middle;\n",
       "    }\n",
       "\n",
       "    .dataframe tbody tr th {\n",
       "        vertical-align: top;\n",
       "    }\n",
       "\n",
       "    .dataframe thead th {\n",
       "        text-align: right;\n",
       "    }\n",
       "</style>\n",
       "<table border=\"1\" class=\"dataframe\">\n",
       "  <thead>\n",
       "    <tr style=\"text-align: right;\">\n",
       "      <th></th>\n",
       "      <th>Id</th>\n",
       "      <th>MSSubClass</th>\n",
       "      <th>MSZoning</th>\n",
       "      <th>LotFrontage</th>\n",
       "      <th>LotArea</th>\n",
       "      <th>Street</th>\n",
       "      <th>Alley</th>\n",
       "      <th>LotShape</th>\n",
       "      <th>LandContour</th>\n",
       "      <th>Utilities</th>\n",
       "      <th>...</th>\n",
       "      <th>PoolArea</th>\n",
       "      <th>PoolQC</th>\n",
       "      <th>Fence</th>\n",
       "      <th>MiscFeature</th>\n",
       "      <th>MiscVal</th>\n",
       "      <th>MoSold</th>\n",
       "      <th>YrSold</th>\n",
       "      <th>SaleType</th>\n",
       "      <th>SaleCondition</th>\n",
       "      <th>SalePrice</th>\n",
       "    </tr>\n",
       "  </thead>\n",
       "  <tbody>\n",
       "    <tr>\n",
       "      <th>0</th>\n",
       "      <td>1</td>\n",
       "      <td>60</td>\n",
       "      <td>RL</td>\n",
       "      <td>65.0</td>\n",
       "      <td>8450</td>\n",
       "      <td>Pave</td>\n",
       "      <td>NaN</td>\n",
       "      <td>Reg</td>\n",
       "      <td>Lvl</td>\n",
       "      <td>AllPub</td>\n",
       "      <td>...</td>\n",
       "      <td>0</td>\n",
       "      <td>NaN</td>\n",
       "      <td>NaN</td>\n",
       "      <td>NaN</td>\n",
       "      <td>0</td>\n",
       "      <td>2</td>\n",
       "      <td>2008</td>\n",
       "      <td>WD</td>\n",
       "      <td>Normal</td>\n",
       "      <td>208500</td>\n",
       "    </tr>\n",
       "    <tr>\n",
       "      <th>1</th>\n",
       "      <td>2</td>\n",
       "      <td>20</td>\n",
       "      <td>RL</td>\n",
       "      <td>80.0</td>\n",
       "      <td>9600</td>\n",
       "      <td>Pave</td>\n",
       "      <td>NaN</td>\n",
       "      <td>Reg</td>\n",
       "      <td>Lvl</td>\n",
       "      <td>AllPub</td>\n",
       "      <td>...</td>\n",
       "      <td>0</td>\n",
       "      <td>NaN</td>\n",
       "      <td>NaN</td>\n",
       "      <td>NaN</td>\n",
       "      <td>0</td>\n",
       "      <td>5</td>\n",
       "      <td>2007</td>\n",
       "      <td>WD</td>\n",
       "      <td>Normal</td>\n",
       "      <td>181500</td>\n",
       "    </tr>\n",
       "    <tr>\n",
       "      <th>2</th>\n",
       "      <td>3</td>\n",
       "      <td>60</td>\n",
       "      <td>RL</td>\n",
       "      <td>68.0</td>\n",
       "      <td>11250</td>\n",
       "      <td>Pave</td>\n",
       "      <td>NaN</td>\n",
       "      <td>IR1</td>\n",
       "      <td>Lvl</td>\n",
       "      <td>AllPub</td>\n",
       "      <td>...</td>\n",
       "      <td>0</td>\n",
       "      <td>NaN</td>\n",
       "      <td>NaN</td>\n",
       "      <td>NaN</td>\n",
       "      <td>0</td>\n",
       "      <td>9</td>\n",
       "      <td>2008</td>\n",
       "      <td>WD</td>\n",
       "      <td>Normal</td>\n",
       "      <td>223500</td>\n",
       "    </tr>\n",
       "    <tr>\n",
       "      <th>3</th>\n",
       "      <td>4</td>\n",
       "      <td>70</td>\n",
       "      <td>RL</td>\n",
       "      <td>60.0</td>\n",
       "      <td>9550</td>\n",
       "      <td>Pave</td>\n",
       "      <td>NaN</td>\n",
       "      <td>IR1</td>\n",
       "      <td>Lvl</td>\n",
       "      <td>AllPub</td>\n",
       "      <td>...</td>\n",
       "      <td>0</td>\n",
       "      <td>NaN</td>\n",
       "      <td>NaN</td>\n",
       "      <td>NaN</td>\n",
       "      <td>0</td>\n",
       "      <td>2</td>\n",
       "      <td>2006</td>\n",
       "      <td>WD</td>\n",
       "      <td>Abnorml</td>\n",
       "      <td>140000</td>\n",
       "    </tr>\n",
       "    <tr>\n",
       "      <th>4</th>\n",
       "      <td>5</td>\n",
       "      <td>60</td>\n",
       "      <td>RL</td>\n",
       "      <td>84.0</td>\n",
       "      <td>14260</td>\n",
       "      <td>Pave</td>\n",
       "      <td>NaN</td>\n",
       "      <td>IR1</td>\n",
       "      <td>Lvl</td>\n",
       "      <td>AllPub</td>\n",
       "      <td>...</td>\n",
       "      <td>0</td>\n",
       "      <td>NaN</td>\n",
       "      <td>NaN</td>\n",
       "      <td>NaN</td>\n",
       "      <td>0</td>\n",
       "      <td>12</td>\n",
       "      <td>2008</td>\n",
       "      <td>WD</td>\n",
       "      <td>Normal</td>\n",
       "      <td>250000</td>\n",
       "    </tr>\n",
       "  </tbody>\n",
       "</table>\n",
       "<p>5 rows × 81 columns</p>\n",
       "</div>"
      ],
      "text/plain": [
       "   Id  MSSubClass MSZoning  LotFrontage  LotArea Street Alley LotShape  \\\n",
       "0   1          60       RL         65.0     8450   Pave   NaN      Reg   \n",
       "1   2          20       RL         80.0     9600   Pave   NaN      Reg   \n",
       "2   3          60       RL         68.0    11250   Pave   NaN      IR1   \n",
       "3   4          70       RL         60.0     9550   Pave   NaN      IR1   \n",
       "4   5          60       RL         84.0    14260   Pave   NaN      IR1   \n",
       "\n",
       "  LandContour Utilities  ... PoolArea PoolQC Fence MiscFeature MiscVal MoSold  \\\n",
       "0         Lvl    AllPub  ...        0    NaN   NaN         NaN       0      2   \n",
       "1         Lvl    AllPub  ...        0    NaN   NaN         NaN       0      5   \n",
       "2         Lvl    AllPub  ...        0    NaN   NaN         NaN       0      9   \n",
       "3         Lvl    AllPub  ...        0    NaN   NaN         NaN       0      2   \n",
       "4         Lvl    AllPub  ...        0    NaN   NaN         NaN       0     12   \n",
       "\n",
       "  YrSold  SaleType  SaleCondition  SalePrice  \n",
       "0   2008        WD         Normal     208500  \n",
       "1   2007        WD         Normal     181500  \n",
       "2   2008        WD         Normal     223500  \n",
       "3   2006        WD        Abnorml     140000  \n",
       "4   2008        WD         Normal     250000  \n",
       "\n",
       "[5 rows x 81 columns]"
      ]
     },
     "execution_count": 3,
     "metadata": {},
     "output_type": "execute_result"
    }
   ],
   "source": [
    "df_train.head()"
   ]
  },
  {
   "cell_type": "code",
   "execution_count": 4,
   "id": "e519c1ef",
   "metadata": {
    "execution": {
     "iopub.execute_input": "2022-04-14T14:18:51.680504Z",
     "iopub.status.busy": "2022-04-14T14:18:51.679586Z",
     "iopub.status.idle": "2022-04-14T14:18:51.684000Z",
     "shell.execute_reply": "2022-04-14T14:18:51.683338Z",
     "shell.execute_reply.started": "2022-04-14T14:18:00.842164Z"
    },
    "papermill": {
     "duration": 0.064289,
     "end_time": "2022-04-14T14:18:51.684138",
     "exception": false,
     "start_time": "2022-04-14T14:18:51.619849",
     "status": "completed"
    },
    "tags": []
   },
   "outputs": [
    {
     "data": {
      "text/html": [
       "<div>\n",
       "<style scoped>\n",
       "    .dataframe tbody tr th:only-of-type {\n",
       "        vertical-align: middle;\n",
       "    }\n",
       "\n",
       "    .dataframe tbody tr th {\n",
       "        vertical-align: top;\n",
       "    }\n",
       "\n",
       "    .dataframe thead th {\n",
       "        text-align: right;\n",
       "    }\n",
       "</style>\n",
       "<table border=\"1\" class=\"dataframe\">\n",
       "  <thead>\n",
       "    <tr style=\"text-align: right;\">\n",
       "      <th></th>\n",
       "      <th>Id</th>\n",
       "      <th>MSSubClass</th>\n",
       "      <th>MSZoning</th>\n",
       "      <th>LotFrontage</th>\n",
       "      <th>LotArea</th>\n",
       "      <th>Street</th>\n",
       "      <th>Alley</th>\n",
       "      <th>LotShape</th>\n",
       "      <th>LandContour</th>\n",
       "      <th>Utilities</th>\n",
       "      <th>...</th>\n",
       "      <th>ScreenPorch</th>\n",
       "      <th>PoolArea</th>\n",
       "      <th>PoolQC</th>\n",
       "      <th>Fence</th>\n",
       "      <th>MiscFeature</th>\n",
       "      <th>MiscVal</th>\n",
       "      <th>MoSold</th>\n",
       "      <th>YrSold</th>\n",
       "      <th>SaleType</th>\n",
       "      <th>SaleCondition</th>\n",
       "    </tr>\n",
       "  </thead>\n",
       "  <tbody>\n",
       "    <tr>\n",
       "      <th>0</th>\n",
       "      <td>1461</td>\n",
       "      <td>20</td>\n",
       "      <td>RH</td>\n",
       "      <td>80.0</td>\n",
       "      <td>11622</td>\n",
       "      <td>Pave</td>\n",
       "      <td>NaN</td>\n",
       "      <td>Reg</td>\n",
       "      <td>Lvl</td>\n",
       "      <td>AllPub</td>\n",
       "      <td>...</td>\n",
       "      <td>120</td>\n",
       "      <td>0</td>\n",
       "      <td>NaN</td>\n",
       "      <td>MnPrv</td>\n",
       "      <td>NaN</td>\n",
       "      <td>0</td>\n",
       "      <td>6</td>\n",
       "      <td>2010</td>\n",
       "      <td>WD</td>\n",
       "      <td>Normal</td>\n",
       "    </tr>\n",
       "    <tr>\n",
       "      <th>1</th>\n",
       "      <td>1462</td>\n",
       "      <td>20</td>\n",
       "      <td>RL</td>\n",
       "      <td>81.0</td>\n",
       "      <td>14267</td>\n",
       "      <td>Pave</td>\n",
       "      <td>NaN</td>\n",
       "      <td>IR1</td>\n",
       "      <td>Lvl</td>\n",
       "      <td>AllPub</td>\n",
       "      <td>...</td>\n",
       "      <td>0</td>\n",
       "      <td>0</td>\n",
       "      <td>NaN</td>\n",
       "      <td>NaN</td>\n",
       "      <td>Gar2</td>\n",
       "      <td>12500</td>\n",
       "      <td>6</td>\n",
       "      <td>2010</td>\n",
       "      <td>WD</td>\n",
       "      <td>Normal</td>\n",
       "    </tr>\n",
       "    <tr>\n",
       "      <th>2</th>\n",
       "      <td>1463</td>\n",
       "      <td>60</td>\n",
       "      <td>RL</td>\n",
       "      <td>74.0</td>\n",
       "      <td>13830</td>\n",
       "      <td>Pave</td>\n",
       "      <td>NaN</td>\n",
       "      <td>IR1</td>\n",
       "      <td>Lvl</td>\n",
       "      <td>AllPub</td>\n",
       "      <td>...</td>\n",
       "      <td>0</td>\n",
       "      <td>0</td>\n",
       "      <td>NaN</td>\n",
       "      <td>MnPrv</td>\n",
       "      <td>NaN</td>\n",
       "      <td>0</td>\n",
       "      <td>3</td>\n",
       "      <td>2010</td>\n",
       "      <td>WD</td>\n",
       "      <td>Normal</td>\n",
       "    </tr>\n",
       "    <tr>\n",
       "      <th>3</th>\n",
       "      <td>1464</td>\n",
       "      <td>60</td>\n",
       "      <td>RL</td>\n",
       "      <td>78.0</td>\n",
       "      <td>9978</td>\n",
       "      <td>Pave</td>\n",
       "      <td>NaN</td>\n",
       "      <td>IR1</td>\n",
       "      <td>Lvl</td>\n",
       "      <td>AllPub</td>\n",
       "      <td>...</td>\n",
       "      <td>0</td>\n",
       "      <td>0</td>\n",
       "      <td>NaN</td>\n",
       "      <td>NaN</td>\n",
       "      <td>NaN</td>\n",
       "      <td>0</td>\n",
       "      <td>6</td>\n",
       "      <td>2010</td>\n",
       "      <td>WD</td>\n",
       "      <td>Normal</td>\n",
       "    </tr>\n",
       "    <tr>\n",
       "      <th>4</th>\n",
       "      <td>1465</td>\n",
       "      <td>120</td>\n",
       "      <td>RL</td>\n",
       "      <td>43.0</td>\n",
       "      <td>5005</td>\n",
       "      <td>Pave</td>\n",
       "      <td>NaN</td>\n",
       "      <td>IR1</td>\n",
       "      <td>HLS</td>\n",
       "      <td>AllPub</td>\n",
       "      <td>...</td>\n",
       "      <td>144</td>\n",
       "      <td>0</td>\n",
       "      <td>NaN</td>\n",
       "      <td>NaN</td>\n",
       "      <td>NaN</td>\n",
       "      <td>0</td>\n",
       "      <td>1</td>\n",
       "      <td>2010</td>\n",
       "      <td>WD</td>\n",
       "      <td>Normal</td>\n",
       "    </tr>\n",
       "  </tbody>\n",
       "</table>\n",
       "<p>5 rows × 80 columns</p>\n",
       "</div>"
      ],
      "text/plain": [
       "     Id  MSSubClass MSZoning  LotFrontage  LotArea Street Alley LotShape  \\\n",
       "0  1461          20       RH         80.0    11622   Pave   NaN      Reg   \n",
       "1  1462          20       RL         81.0    14267   Pave   NaN      IR1   \n",
       "2  1463          60       RL         74.0    13830   Pave   NaN      IR1   \n",
       "3  1464          60       RL         78.0     9978   Pave   NaN      IR1   \n",
       "4  1465         120       RL         43.0     5005   Pave   NaN      IR1   \n",
       "\n",
       "  LandContour Utilities  ... ScreenPorch PoolArea PoolQC  Fence MiscFeature  \\\n",
       "0         Lvl    AllPub  ...         120        0    NaN  MnPrv         NaN   \n",
       "1         Lvl    AllPub  ...           0        0    NaN    NaN        Gar2   \n",
       "2         Lvl    AllPub  ...           0        0    NaN  MnPrv         NaN   \n",
       "3         Lvl    AllPub  ...           0        0    NaN    NaN         NaN   \n",
       "4         HLS    AllPub  ...         144        0    NaN    NaN         NaN   \n",
       "\n",
       "  MiscVal MoSold  YrSold  SaleType  SaleCondition  \n",
       "0       0      6    2010        WD         Normal  \n",
       "1   12500      6    2010        WD         Normal  \n",
       "2       0      3    2010        WD         Normal  \n",
       "3       0      6    2010        WD         Normal  \n",
       "4       0      1    2010        WD         Normal  \n",
       "\n",
       "[5 rows x 80 columns]"
      ]
     },
     "execution_count": 4,
     "metadata": {},
     "output_type": "execute_result"
    }
   ],
   "source": [
    "df_test.head()"
   ]
  },
  {
   "cell_type": "code",
   "execution_count": 5,
   "id": "2b8ad0bd",
   "metadata": {
    "execution": {
     "iopub.execute_input": "2022-04-14T14:18:51.764539Z",
     "iopub.status.busy": "2022-04-14T14:18:51.763779Z",
     "iopub.status.idle": "2022-04-14T14:18:52.182293Z",
     "shell.execute_reply": "2022-04-14T14:18:52.181686Z",
     "shell.execute_reply.started": "2022-04-14T14:18:00.922429Z"
    },
    "papermill": {
     "duration": 0.461912,
     "end_time": "2022-04-14T14:18:52.182453",
     "exception": false,
     "start_time": "2022-04-14T14:18:51.720541",
     "status": "completed"
    },
    "tags": []
   },
   "outputs": [],
   "source": [
    "from sklearn.ensemble import RandomForestRegressor\n",
    "from sklearn.metrics import mean_absolute_error\n",
    "from sklearn.model_selection import train_test_split\n",
    "\n",
    "# function for comparing different approaches\n",
    "def score_dataset(X, y):\n",
    "    X_train, X_valid, y_train, y_valid = train_test_split(X, y,\n",
    "                                                      train_size=0.8, test_size=0.2,\n",
    "                                                      random_state=0)\n",
    "    model = RandomForestRegressor(n_estimators=100, random_state=0)\n",
    "    model.fit(X_train, y_train)\n",
    "    preds = model.predict(X_valid)\n",
    "    return mean_absolute_error(y_valid, preds)"
   ]
  },
  {
   "cell_type": "code",
   "execution_count": 6,
   "id": "8cd4d4c2",
   "metadata": {
    "execution": {
     "iopub.execute_input": "2022-04-14T14:18:52.266474Z",
     "iopub.status.busy": "2022-04-14T14:18:52.261759Z",
     "iopub.status.idle": "2022-04-14T14:18:52.269863Z",
     "shell.execute_reply": "2022-04-14T14:18:52.269233Z",
     "shell.execute_reply.started": "2022-04-14T14:18:00.968450Z"
    },
    "papermill": {
     "duration": 0.048108,
     "end_time": "2022-04-14T14:18:52.270018",
     "exception": false,
     "start_time": "2022-04-14T14:18:52.221910",
     "status": "completed"
    },
    "tags": []
   },
   "outputs": [],
   "source": [
    "X_full = df_train.copy()\n",
    "X_test = df_test.copy()"
   ]
  },
  {
   "cell_type": "markdown",
   "id": "a5b155af",
   "metadata": {
    "papermill": {
     "duration": 0.03562,
     "end_time": "2022-04-14T14:18:52.341925",
     "exception": false,
     "start_time": "2022-04-14T14:18:52.306305",
     "status": "completed"
    },
    "tags": []
   },
   "source": [
    "### Explore Outliners"
   ]
  },
  {
   "cell_type": "markdown",
   "id": "ea27c0a9",
   "metadata": {
    "papermill": {
     "duration": 0.035543,
     "end_time": "2022-04-14T14:18:52.413552",
     "exception": false,
     "start_time": "2022-04-14T14:18:52.378009",
     "status": "completed"
    },
    "tags": []
   },
   "source": [
    "### Explore Sale Price"
   ]
  },
  {
   "cell_type": "markdown",
   "id": "b9270935",
   "metadata": {
    "papermill": {
     "duration": 0.036084,
     "end_time": "2022-04-14T14:18:52.485279",
     "exception": false,
     "start_time": "2022-04-14T14:18:52.449195",
     "status": "completed"
    },
    "tags": []
   },
   "source": [
    "### Combine training data and testing data"
   ]
  },
  {
   "cell_type": "code",
   "execution_count": 7,
   "id": "809371ec",
   "metadata": {
    "execution": {
     "iopub.execute_input": "2022-04-14T14:18:52.562439Z",
     "iopub.status.busy": "2022-04-14T14:18:52.561537Z",
     "iopub.status.idle": "2022-04-14T14:18:52.564758Z",
     "shell.execute_reply": "2022-04-14T14:18:52.565249Z",
     "shell.execute_reply.started": "2022-04-14T14:18:01.018334Z"
    },
    "papermill": {
     "duration": 0.044201,
     "end_time": "2022-04-14T14:18:52.565439",
     "exception": false,
     "start_time": "2022-04-14T14:18:52.521238",
     "status": "completed"
    },
    "tags": []
   },
   "outputs": [
    {
     "data": {
      "text/plain": [
       "(1460, 81)"
      ]
     },
     "execution_count": 7,
     "metadata": {},
     "output_type": "execute_result"
    }
   ],
   "source": [
    "X_full.shape"
   ]
  },
  {
   "cell_type": "code",
   "execution_count": 8,
   "id": "40c6d8db",
   "metadata": {
    "execution": {
     "iopub.execute_input": "2022-04-14T14:18:52.644516Z",
     "iopub.status.busy": "2022-04-14T14:18:52.643594Z",
     "iopub.status.idle": "2022-04-14T14:18:52.647242Z",
     "shell.execute_reply": "2022-04-14T14:18:52.647747Z",
     "shell.execute_reply.started": "2022-04-14T14:18:01.113887Z"
    },
    "papermill": {
     "duration": 0.045741,
     "end_time": "2022-04-14T14:18:52.647926",
     "exception": false,
     "start_time": "2022-04-14T14:18:52.602185",
     "status": "completed"
    },
    "tags": []
   },
   "outputs": [
    {
     "data": {
      "text/plain": [
       "(1459, 80)"
      ]
     },
     "execution_count": 8,
     "metadata": {},
     "output_type": "execute_result"
    }
   ],
   "source": [
    "X_test.shape"
   ]
  },
  {
   "cell_type": "code",
   "execution_count": 9,
   "id": "912e299a",
   "metadata": {
    "execution": {
     "iopub.execute_input": "2022-04-14T14:18:52.735057Z",
     "iopub.status.busy": "2022-04-14T14:18:52.729149Z",
     "iopub.status.idle": "2022-04-14T14:18:52.764163Z",
     "shell.execute_reply": "2022-04-14T14:18:52.764678Z",
     "shell.execute_reply.started": "2022-04-14T14:18:01.185062Z"
    },
    "papermill": {
     "duration": 0.08046,
     "end_time": "2022-04-14T14:18:52.764859",
     "exception": false,
     "start_time": "2022-04-14T14:18:52.684399",
     "status": "completed"
    },
    "tags": []
   },
   "outputs": [
    {
     "name": "stdout",
     "output_type": "stream",
     "text": [
      "all_data size is : (2919, 80)\n"
     ]
    }
   ],
   "source": [
    "ntrain = X_full.shape[0]\n",
    "ntest = X_test.shape[0]\n",
    "y_train = X_full.SalePrice.values\n",
    "all_data = pd.concat((X_full, X_test)).reset_index(drop=True)\n",
    "all_data.drop(['SalePrice'], axis=1, inplace=True)\n",
    "print(\"all_data size is : {}\".format(all_data.shape))"
   ]
  },
  {
   "cell_type": "code",
   "execution_count": 10,
   "id": "6956275b",
   "metadata": {
    "execution": {
     "iopub.execute_input": "2022-04-14T14:18:52.841708Z",
     "iopub.status.busy": "2022-04-14T14:18:52.841079Z",
     "iopub.status.idle": "2022-04-14T14:18:52.863352Z",
     "shell.execute_reply": "2022-04-14T14:18:52.863955Z",
     "shell.execute_reply.started": "2022-04-14T14:18:01.275598Z"
    },
    "papermill": {
     "duration": 0.062363,
     "end_time": "2022-04-14T14:18:52.864134",
     "exception": false,
     "start_time": "2022-04-14T14:18:52.801771",
     "status": "completed"
    },
    "tags": []
   },
   "outputs": [
    {
     "data": {
      "text/html": [
       "<div>\n",
       "<style scoped>\n",
       "    .dataframe tbody tr th:only-of-type {\n",
       "        vertical-align: middle;\n",
       "    }\n",
       "\n",
       "    .dataframe tbody tr th {\n",
       "        vertical-align: top;\n",
       "    }\n",
       "\n",
       "    .dataframe thead th {\n",
       "        text-align: right;\n",
       "    }\n",
       "</style>\n",
       "<table border=\"1\" class=\"dataframe\">\n",
       "  <thead>\n",
       "    <tr style=\"text-align: right;\">\n",
       "      <th></th>\n",
       "      <th>Id</th>\n",
       "      <th>MSSubClass</th>\n",
       "      <th>MSZoning</th>\n",
       "      <th>LotFrontage</th>\n",
       "      <th>LotArea</th>\n",
       "      <th>Street</th>\n",
       "      <th>Alley</th>\n",
       "      <th>LotShape</th>\n",
       "      <th>LandContour</th>\n",
       "      <th>Utilities</th>\n",
       "      <th>...</th>\n",
       "      <th>ScreenPorch</th>\n",
       "      <th>PoolArea</th>\n",
       "      <th>PoolQC</th>\n",
       "      <th>Fence</th>\n",
       "      <th>MiscFeature</th>\n",
       "      <th>MiscVal</th>\n",
       "      <th>MoSold</th>\n",
       "      <th>YrSold</th>\n",
       "      <th>SaleType</th>\n",
       "      <th>SaleCondition</th>\n",
       "    </tr>\n",
       "  </thead>\n",
       "  <tbody>\n",
       "    <tr>\n",
       "      <th>0</th>\n",
       "      <td>1</td>\n",
       "      <td>60</td>\n",
       "      <td>RL</td>\n",
       "      <td>65.0</td>\n",
       "      <td>8450</td>\n",
       "      <td>Pave</td>\n",
       "      <td>NaN</td>\n",
       "      <td>Reg</td>\n",
       "      <td>Lvl</td>\n",
       "      <td>AllPub</td>\n",
       "      <td>...</td>\n",
       "      <td>0</td>\n",
       "      <td>0</td>\n",
       "      <td>NaN</td>\n",
       "      <td>NaN</td>\n",
       "      <td>NaN</td>\n",
       "      <td>0</td>\n",
       "      <td>2</td>\n",
       "      <td>2008</td>\n",
       "      <td>WD</td>\n",
       "      <td>Normal</td>\n",
       "    </tr>\n",
       "    <tr>\n",
       "      <th>1</th>\n",
       "      <td>2</td>\n",
       "      <td>20</td>\n",
       "      <td>RL</td>\n",
       "      <td>80.0</td>\n",
       "      <td>9600</td>\n",
       "      <td>Pave</td>\n",
       "      <td>NaN</td>\n",
       "      <td>Reg</td>\n",
       "      <td>Lvl</td>\n",
       "      <td>AllPub</td>\n",
       "      <td>...</td>\n",
       "      <td>0</td>\n",
       "      <td>0</td>\n",
       "      <td>NaN</td>\n",
       "      <td>NaN</td>\n",
       "      <td>NaN</td>\n",
       "      <td>0</td>\n",
       "      <td>5</td>\n",
       "      <td>2007</td>\n",
       "      <td>WD</td>\n",
       "      <td>Normal</td>\n",
       "    </tr>\n",
       "    <tr>\n",
       "      <th>2</th>\n",
       "      <td>3</td>\n",
       "      <td>60</td>\n",
       "      <td>RL</td>\n",
       "      <td>68.0</td>\n",
       "      <td>11250</td>\n",
       "      <td>Pave</td>\n",
       "      <td>NaN</td>\n",
       "      <td>IR1</td>\n",
       "      <td>Lvl</td>\n",
       "      <td>AllPub</td>\n",
       "      <td>...</td>\n",
       "      <td>0</td>\n",
       "      <td>0</td>\n",
       "      <td>NaN</td>\n",
       "      <td>NaN</td>\n",
       "      <td>NaN</td>\n",
       "      <td>0</td>\n",
       "      <td>9</td>\n",
       "      <td>2008</td>\n",
       "      <td>WD</td>\n",
       "      <td>Normal</td>\n",
       "    </tr>\n",
       "    <tr>\n",
       "      <th>3</th>\n",
       "      <td>4</td>\n",
       "      <td>70</td>\n",
       "      <td>RL</td>\n",
       "      <td>60.0</td>\n",
       "      <td>9550</td>\n",
       "      <td>Pave</td>\n",
       "      <td>NaN</td>\n",
       "      <td>IR1</td>\n",
       "      <td>Lvl</td>\n",
       "      <td>AllPub</td>\n",
       "      <td>...</td>\n",
       "      <td>0</td>\n",
       "      <td>0</td>\n",
       "      <td>NaN</td>\n",
       "      <td>NaN</td>\n",
       "      <td>NaN</td>\n",
       "      <td>0</td>\n",
       "      <td>2</td>\n",
       "      <td>2006</td>\n",
       "      <td>WD</td>\n",
       "      <td>Abnorml</td>\n",
       "    </tr>\n",
       "    <tr>\n",
       "      <th>4</th>\n",
       "      <td>5</td>\n",
       "      <td>60</td>\n",
       "      <td>RL</td>\n",
       "      <td>84.0</td>\n",
       "      <td>14260</td>\n",
       "      <td>Pave</td>\n",
       "      <td>NaN</td>\n",
       "      <td>IR1</td>\n",
       "      <td>Lvl</td>\n",
       "      <td>AllPub</td>\n",
       "      <td>...</td>\n",
       "      <td>0</td>\n",
       "      <td>0</td>\n",
       "      <td>NaN</td>\n",
       "      <td>NaN</td>\n",
       "      <td>NaN</td>\n",
       "      <td>0</td>\n",
       "      <td>12</td>\n",
       "      <td>2008</td>\n",
       "      <td>WD</td>\n",
       "      <td>Normal</td>\n",
       "    </tr>\n",
       "  </tbody>\n",
       "</table>\n",
       "<p>5 rows × 80 columns</p>\n",
       "</div>"
      ],
      "text/plain": [
       "   Id  MSSubClass MSZoning  LotFrontage  LotArea Street Alley LotShape  \\\n",
       "0   1          60       RL         65.0     8450   Pave   NaN      Reg   \n",
       "1   2          20       RL         80.0     9600   Pave   NaN      Reg   \n",
       "2   3          60       RL         68.0    11250   Pave   NaN      IR1   \n",
       "3   4          70       RL         60.0     9550   Pave   NaN      IR1   \n",
       "4   5          60       RL         84.0    14260   Pave   NaN      IR1   \n",
       "\n",
       "  LandContour Utilities  ... ScreenPorch PoolArea PoolQC Fence MiscFeature  \\\n",
       "0         Lvl    AllPub  ...           0        0    NaN   NaN         NaN   \n",
       "1         Lvl    AllPub  ...           0        0    NaN   NaN         NaN   \n",
       "2         Lvl    AllPub  ...           0        0    NaN   NaN         NaN   \n",
       "3         Lvl    AllPub  ...           0        0    NaN   NaN         NaN   \n",
       "4         Lvl    AllPub  ...           0        0    NaN   NaN         NaN   \n",
       "\n",
       "  MiscVal MoSold  YrSold  SaleType  SaleCondition  \n",
       "0       0      2    2008        WD         Normal  \n",
       "1       0      5    2007        WD         Normal  \n",
       "2       0      9    2008        WD         Normal  \n",
       "3       0      2    2006        WD        Abnorml  \n",
       "4       0     12    2008        WD         Normal  \n",
       "\n",
       "[5 rows x 80 columns]"
      ]
     },
     "execution_count": 10,
     "metadata": {},
     "output_type": "execute_result"
    }
   ],
   "source": [
    "all_data.head()"
   ]
  },
  {
   "cell_type": "markdown",
   "id": "1e29a6f7",
   "metadata": {
    "papermill": {
     "duration": 0.038517,
     "end_time": "2022-04-14T14:18:52.940274",
     "exception": false,
     "start_time": "2022-04-14T14:18:52.901757",
     "status": "completed"
    },
    "tags": []
   },
   "source": [
    "### Check Data"
   ]
  },
  {
   "cell_type": "code",
   "execution_count": 11,
   "id": "2d32cf7a",
   "metadata": {
    "execution": {
     "iopub.execute_input": "2022-04-14T14:18:53.018580Z",
     "iopub.status.busy": "2022-04-14T14:18:53.017900Z",
     "iopub.status.idle": "2022-04-14T14:18:53.027478Z",
     "shell.execute_reply": "2022-04-14T14:18:53.028035Z",
     "shell.execute_reply.started": "2022-04-14T14:18:01.360727Z"
    },
    "papermill": {
     "duration": 0.050349,
     "end_time": "2022-04-14T14:18:53.028215",
     "exception": false,
     "start_time": "2022-04-14T14:18:52.977866",
     "status": "completed"
    },
    "tags": []
   },
   "outputs": [],
   "source": [
    "# \"Cardinality\" means the number of unique values in a column\n",
    "# Select categorical columns with relatively low cardinality (convenient but arbitrary)\n",
    "categorical_cols = [cname for cname in all_data.columns if\n",
    "                    all_data[cname].dtype == \"object\"]\n",
    "\n",
    "# Select numerical columns\n",
    "numerical_cols = [cname for cname in all_data.columns if \n",
    "                all_data[cname].dtype in ['int64', 'float64']]"
   ]
  },
  {
   "cell_type": "code",
   "execution_count": 12,
   "id": "54147595",
   "metadata": {
    "execution": {
     "iopub.execute_input": "2022-04-14T14:18:53.107395Z",
     "iopub.status.busy": "2022-04-14T14:18:53.106704Z",
     "iopub.status.idle": "2022-04-14T14:18:53.139568Z",
     "shell.execute_reply": "2022-04-14T14:18:53.140093Z",
     "shell.execute_reply.started": "2022-04-14T14:18:01.447079Z"
    },
    "papermill": {
     "duration": 0.074135,
     "end_time": "2022-04-14T14:18:53.140277",
     "exception": false,
     "start_time": "2022-04-14T14:18:53.066142",
     "status": "completed"
    },
    "tags": []
   },
   "outputs": [
    {
     "name": "stdout",
     "output_type": "stream",
     "text": [
      "MSZoning\n",
      "['RL' 'RM' 'C (all)' 'FV' 'RH' nan]\n",
      "Street\n",
      "['Pave' 'Grvl']\n",
      "Alley\n",
      "[nan 'Grvl' 'Pave']\n",
      "LotShape\n",
      "['Reg' 'IR1' 'IR2' 'IR3']\n",
      "LandContour\n",
      "['Lvl' 'Bnk' 'Low' 'HLS']\n",
      "Utilities\n",
      "['AllPub' 'NoSeWa' nan]\n",
      "LotConfig\n",
      "['Inside' 'FR2' 'Corner' 'CulDSac' 'FR3']\n",
      "LandSlope\n",
      "['Gtl' 'Mod' 'Sev']\n",
      "Neighborhood\n",
      "['CollgCr' 'Veenker' 'Crawfor' 'NoRidge' 'Mitchel' 'Somerst' 'NWAmes'\n",
      " 'OldTown' 'BrkSide' 'Sawyer' 'NridgHt' 'NAmes' 'SawyerW' 'IDOTRR'\n",
      " 'MeadowV' 'Edwards' 'Timber' 'Gilbert' 'StoneBr' 'ClearCr' 'NPkVill'\n",
      " 'Blmngtn' 'BrDale' 'SWISU' 'Blueste']\n",
      "Condition1\n",
      "['Norm' 'Feedr' 'PosN' 'Artery' 'RRAe' 'RRNn' 'RRAn' 'PosA' 'RRNe']\n",
      "Condition2\n",
      "['Norm' 'Artery' 'RRNn' 'Feedr' 'PosN' 'PosA' 'RRAn' 'RRAe']\n",
      "BldgType\n",
      "['1Fam' '2fmCon' 'Duplex' 'TwnhsE' 'Twnhs']\n",
      "HouseStyle\n",
      "['2Story' '1Story' '1.5Fin' '1.5Unf' 'SFoyer' 'SLvl' '2.5Unf' '2.5Fin']\n",
      "RoofStyle\n",
      "['Gable' 'Hip' 'Gambrel' 'Mansard' 'Flat' 'Shed']\n",
      "RoofMatl\n",
      "['CompShg' 'WdShngl' 'Metal' 'WdShake' 'Membran' 'Tar&Grv' 'Roll'\n",
      " 'ClyTile']\n",
      "Exterior1st\n",
      "['VinylSd' 'MetalSd' 'Wd Sdng' 'HdBoard' 'BrkFace' 'WdShing' 'CemntBd'\n",
      " 'Plywood' 'AsbShng' 'Stucco' 'BrkComm' 'AsphShn' 'Stone' 'ImStucc'\n",
      " 'CBlock' nan]\n",
      "Exterior2nd\n",
      "['VinylSd' 'MetalSd' 'Wd Shng' 'HdBoard' 'Plywood' 'Wd Sdng' 'CmentBd'\n",
      " 'BrkFace' 'Stucco' 'AsbShng' 'Brk Cmn' 'ImStucc' 'AsphShn' 'Stone'\n",
      " 'Other' 'CBlock' nan]\n",
      "MasVnrType\n",
      "['BrkFace' 'None' 'Stone' 'BrkCmn' nan]\n",
      "ExterQual\n",
      "['Gd' 'TA' 'Ex' 'Fa']\n",
      "ExterCond\n",
      "['TA' 'Gd' 'Fa' 'Po' 'Ex']\n",
      "Foundation\n",
      "['PConc' 'CBlock' 'BrkTil' 'Wood' 'Slab' 'Stone']\n",
      "BsmtQual\n",
      "['Gd' 'TA' 'Ex' nan 'Fa']\n",
      "BsmtCond\n",
      "['TA' 'Gd' nan 'Fa' 'Po']\n",
      "BsmtExposure\n",
      "['No' 'Gd' 'Mn' 'Av' nan]\n",
      "BsmtFinType1\n",
      "['GLQ' 'ALQ' 'Unf' 'Rec' 'BLQ' nan 'LwQ']\n",
      "BsmtFinType2\n",
      "['Unf' 'BLQ' nan 'ALQ' 'Rec' 'LwQ' 'GLQ']\n",
      "Heating\n",
      "['GasA' 'GasW' 'Grav' 'Wall' 'OthW' 'Floor']\n",
      "HeatingQC\n",
      "['Ex' 'Gd' 'TA' 'Fa' 'Po']\n",
      "CentralAir\n",
      "['Y' 'N']\n",
      "Electrical\n",
      "['SBrkr' 'FuseF' 'FuseA' 'FuseP' 'Mix' nan]\n",
      "KitchenQual\n",
      "['Gd' 'TA' 'Ex' 'Fa' nan]\n",
      "Functional\n",
      "['Typ' 'Min1' 'Maj1' 'Min2' 'Mod' 'Maj2' 'Sev' nan]\n",
      "FireplaceQu\n",
      "[nan 'TA' 'Gd' 'Fa' 'Ex' 'Po']\n",
      "GarageType\n",
      "['Attchd' 'Detchd' 'BuiltIn' 'CarPort' nan 'Basment' '2Types']\n",
      "GarageFinish\n",
      "['RFn' 'Unf' 'Fin' nan]\n",
      "GarageQual\n",
      "['TA' 'Fa' 'Gd' nan 'Ex' 'Po']\n",
      "GarageCond\n",
      "['TA' 'Fa' nan 'Gd' 'Po' 'Ex']\n",
      "PavedDrive\n",
      "['Y' 'N' 'P']\n",
      "PoolQC\n",
      "[nan 'Ex' 'Fa' 'Gd']\n",
      "Fence\n",
      "[nan 'MnPrv' 'GdWo' 'GdPrv' 'MnWw']\n",
      "MiscFeature\n",
      "[nan 'Shed' 'Gar2' 'Othr' 'TenC']\n",
      "SaleType\n",
      "['WD' 'New' 'COD' 'ConLD' 'ConLI' 'CWD' 'ConLw' 'Con' 'Oth' nan]\n",
      "SaleCondition\n",
      "['Normal' 'Abnorml' 'Partial' 'AdjLand' 'Alloca' 'Family']\n"
     ]
    }
   ],
   "source": [
    "#Get unique values of all categorical_cols for validation\n",
    "for col in categorical_cols:\n",
    "    print(col)\n",
    "    print(all_data[col].unique())"
   ]
  },
  {
   "cell_type": "code",
   "execution_count": 13,
   "id": "30640de5",
   "metadata": {
    "execution": {
     "iopub.execute_input": "2022-04-14T14:18:53.220792Z",
     "iopub.status.busy": "2022-04-14T14:18:53.219689Z",
     "iopub.status.idle": "2022-04-14T14:18:53.234686Z",
     "shell.execute_reply": "2022-04-14T14:18:53.235208Z",
     "shell.execute_reply.started": "2022-04-14T14:18:01.546352Z"
    },
    "papermill": {
     "duration": 0.056987,
     "end_time": "2022-04-14T14:18:53.235396",
     "exception": false,
     "start_time": "2022-04-14T14:18:53.178409",
     "status": "completed"
    },
    "tags": []
   },
   "outputs": [
    {
     "data": {
      "text/html": [
       "<div>\n",
       "<style scoped>\n",
       "    .dataframe tbody tr th:only-of-type {\n",
       "        vertical-align: middle;\n",
       "    }\n",
       "\n",
       "    .dataframe tbody tr th {\n",
       "        vertical-align: top;\n",
       "    }\n",
       "\n",
       "    .dataframe thead th {\n",
       "        text-align: right;\n",
       "    }\n",
       "</style>\n",
       "<table border=\"1\" class=\"dataframe\">\n",
       "  <thead>\n",
       "    <tr style=\"text-align: right;\">\n",
       "      <th></th>\n",
       "      <th>GarageYrBlt</th>\n",
       "      <th>YearBuilt</th>\n",
       "    </tr>\n",
       "  </thead>\n",
       "  <tbody>\n",
       "    <tr>\n",
       "      <th>29</th>\n",
       "      <td>1920.0</td>\n",
       "      <td>1927</td>\n",
       "    </tr>\n",
       "    <tr>\n",
       "      <th>93</th>\n",
       "      <td>1900.0</td>\n",
       "      <td>1910</td>\n",
       "    </tr>\n",
       "    <tr>\n",
       "      <th>324</th>\n",
       "      <td>1961.0</td>\n",
       "      <td>1967</td>\n",
       "    </tr>\n",
       "    <tr>\n",
       "      <th>600</th>\n",
       "      <td>2003.0</td>\n",
       "      <td>2005</td>\n",
       "    </tr>\n",
       "    <tr>\n",
       "      <th>736</th>\n",
       "      <td>1949.0</td>\n",
       "      <td>1950</td>\n",
       "    </tr>\n",
       "    <tr>\n",
       "      <th>1103</th>\n",
       "      <td>1954.0</td>\n",
       "      <td>1959</td>\n",
       "    </tr>\n",
       "    <tr>\n",
       "      <th>1376</th>\n",
       "      <td>1925.0</td>\n",
       "      <td>1930</td>\n",
       "    </tr>\n",
       "    <tr>\n",
       "      <th>1414</th>\n",
       "      <td>1922.0</td>\n",
       "      <td>1923</td>\n",
       "    </tr>\n",
       "    <tr>\n",
       "      <th>1418</th>\n",
       "      <td>1962.0</td>\n",
       "      <td>1963</td>\n",
       "    </tr>\n",
       "    <tr>\n",
       "      <th>1521</th>\n",
       "      <td>1956.0</td>\n",
       "      <td>1959</td>\n",
       "    </tr>\n",
       "    <tr>\n",
       "      <th>1576</th>\n",
       "      <td>2009.0</td>\n",
       "      <td>2010</td>\n",
       "    </tr>\n",
       "    <tr>\n",
       "      <th>1805</th>\n",
       "      <td>1920.0</td>\n",
       "      <td>1935</td>\n",
       "    </tr>\n",
       "    <tr>\n",
       "      <th>1840</th>\n",
       "      <td>1960.0</td>\n",
       "      <td>1978</td>\n",
       "    </tr>\n",
       "    <tr>\n",
       "      <th>1895</th>\n",
       "      <td>1940.0</td>\n",
       "      <td>1941</td>\n",
       "    </tr>\n",
       "    <tr>\n",
       "      <th>1897</th>\n",
       "      <td>1926.0</td>\n",
       "      <td>1935</td>\n",
       "    </tr>\n",
       "    <tr>\n",
       "      <th>2122</th>\n",
       "      <td>1925.0</td>\n",
       "      <td>1945</td>\n",
       "    </tr>\n",
       "    <tr>\n",
       "      <th>2263</th>\n",
       "      <td>2005.0</td>\n",
       "      <td>2006</td>\n",
       "    </tr>\n",
       "    <tr>\n",
       "      <th>2509</th>\n",
       "      <td>2005.0</td>\n",
       "      <td>2006</td>\n",
       "    </tr>\n",
       "  </tbody>\n",
       "</table>\n",
       "</div>"
      ],
      "text/plain": [
       "      GarageYrBlt  YearBuilt\n",
       "29         1920.0       1927\n",
       "93         1900.0       1910\n",
       "324        1961.0       1967\n",
       "600        2003.0       2005\n",
       "736        1949.0       1950\n",
       "1103       1954.0       1959\n",
       "1376       1925.0       1930\n",
       "1414       1922.0       1923\n",
       "1418       1962.0       1963\n",
       "1521       1956.0       1959\n",
       "1576       2009.0       2010\n",
       "1805       1920.0       1935\n",
       "1840       1960.0       1978\n",
       "1895       1940.0       1941\n",
       "1897       1926.0       1935\n",
       "2122       1925.0       1945\n",
       "2263       2005.0       2006\n",
       "2509       2005.0       2006"
      ]
     },
     "execution_count": 13,
     "metadata": {},
     "output_type": "execute_result"
    }
   ],
   "source": [
    "pd.set_option('display.max_rows', 1500)\n",
    "\n",
    "#check if GarageYrBlt < YearBuilt\n",
    "garage_year = all_data[all_data['GarageYrBlt'] < all_data['YearBuilt']]\n",
    "garage_year[['GarageYrBlt','YearBuilt']]"
   ]
  },
  {
   "cell_type": "code",
   "execution_count": 14,
   "id": "fd063575",
   "metadata": {
    "execution": {
     "iopub.execute_input": "2022-04-14T14:18:53.319871Z",
     "iopub.status.busy": "2022-04-14T14:18:53.317383Z",
     "iopub.status.idle": "2022-04-14T14:18:53.327149Z",
     "shell.execute_reply": "2022-04-14T14:18:53.327631Z",
     "shell.execute_reply.started": "2022-04-14T14:18:01.646987Z"
    },
    "papermill": {
     "duration": 0.052449,
     "end_time": "2022-04-14T14:18:53.327811",
     "exception": false,
     "start_time": "2022-04-14T14:18:53.275362",
     "status": "completed"
    },
    "tags": []
   },
   "outputs": [
    {
     "data": {
      "text/html": [
       "<div>\n",
       "<style scoped>\n",
       "    .dataframe tbody tr th:only-of-type {\n",
       "        vertical-align: middle;\n",
       "    }\n",
       "\n",
       "    .dataframe tbody tr th {\n",
       "        vertical-align: top;\n",
       "    }\n",
       "\n",
       "    .dataframe thead th {\n",
       "        text-align: right;\n",
       "    }\n",
       "</style>\n",
       "<table border=\"1\" class=\"dataframe\">\n",
       "  <thead>\n",
       "    <tr style=\"text-align: right;\">\n",
       "      <th></th>\n",
       "      <th>YearRemodAdd</th>\n",
       "      <th>YearBuilt</th>\n",
       "    </tr>\n",
       "  </thead>\n",
       "  <tbody>\n",
       "    <tr>\n",
       "      <th>1876</th>\n",
       "      <td>2001</td>\n",
       "      <td>2002</td>\n",
       "    </tr>\n",
       "  </tbody>\n",
       "</table>\n",
       "</div>"
      ],
      "text/plain": [
       "      YearRemodAdd  YearBuilt\n",
       "1876          2001       2002"
      ]
     },
     "execution_count": 14,
     "metadata": {},
     "output_type": "execute_result"
    }
   ],
   "source": [
    "#check if YearRemodAdd < YearBuilt\n",
    "remod_year = all_data[all_data['YearRemodAdd'] < all_data['YearBuilt']]\n",
    "remod_year[['YearRemodAdd','YearBuilt']]"
   ]
  },
  {
   "cell_type": "code",
   "execution_count": 15,
   "id": "a8d16448",
   "metadata": {
    "execution": {
     "iopub.execute_input": "2022-04-14T14:18:53.409600Z",
     "iopub.status.busy": "2022-04-14T14:18:53.408894Z",
     "iopub.status.idle": "2022-04-14T14:18:53.418758Z",
     "shell.execute_reply": "2022-04-14T14:18:53.419235Z",
     "shell.execute_reply.started": "2022-04-14T14:18:01.732954Z"
    },
    "papermill": {
     "duration": 0.052368,
     "end_time": "2022-04-14T14:18:53.419449",
     "exception": false,
     "start_time": "2022-04-14T14:18:53.367081",
     "status": "completed"
    },
    "tags": []
   },
   "outputs": [],
   "source": [
    "#correct typo of exterior2nd_dict\n",
    "exterior2nd_dict = {\"CmentBd\" : \"CemntBd\",\n",
    "                    \"Wd Shng\" : \"Wd Sdng\",\n",
    "                    \"Brk Cmn\" : \"BrkComm\"\n",
    "                   }\n",
    "\n",
    "all_data['Exterior2nd'] = all_data['Exterior2nd'].replace(exterior2nd_dict)\n",
    "\n",
    "#correct GarageYrBlt when it is earlier than YearBuilt  \n",
    "all_data[\"GarageYrBlt\"] = all_data[\"GarageYrBlt\"].where(all_data.GarageYrBlt < all_data.YearBuilt, all_data.YearBuilt) \n",
    "\n",
    "#correct YearRemodAdd when it is earlier than YearBuilt\n",
    "all_data[\"YearRemodAdd\"] = all_data[\"YearRemodAdd\"].where(all_data.YearRemodAdd < all_data.YearBuilt, all_data.YearBuilt) "
   ]
  },
  {
   "cell_type": "markdown",
   "id": "035d4cb8",
   "metadata": {
    "papermill": {
     "duration": 0.038705,
     "end_time": "2022-04-14T14:18:53.497742",
     "exception": false,
     "start_time": "2022-04-14T14:18:53.459037",
     "status": "completed"
    },
    "tags": []
   },
   "source": [
    "### Check missing values and decide how to fill them"
   ]
  },
  {
   "cell_type": "code",
   "execution_count": 16,
   "id": "7376a6dd",
   "metadata": {
    "execution": {
     "iopub.execute_input": "2022-04-14T14:18:53.579244Z",
     "iopub.status.busy": "2022-04-14T14:18:53.578600Z",
     "iopub.status.idle": "2022-04-14T14:18:53.599540Z",
     "shell.execute_reply": "2022-04-14T14:18:53.600015Z",
     "shell.execute_reply.started": "2022-04-14T14:18:01.824562Z"
    },
    "papermill": {
     "duration": 0.063328,
     "end_time": "2022-04-14T14:18:53.600196",
     "exception": false,
     "start_time": "2022-04-14T14:18:53.536868",
     "status": "completed"
    },
    "tags": []
   },
   "outputs": [
    {
     "data": {
      "text/plain": [
       "Index(['MSZoning', 'LotFrontage', 'Alley', 'Utilities', 'Exterior1st',\n",
       "       'Exterior2nd', 'MasVnrType', 'MasVnrArea', 'BsmtQual', 'BsmtCond',\n",
       "       'BsmtExposure', 'BsmtFinType1', 'BsmtFinSF1', 'BsmtFinType2',\n",
       "       'BsmtFinSF2', 'BsmtUnfSF', 'TotalBsmtSF', 'Electrical', 'BsmtFullBath',\n",
       "       'BsmtHalfBath', 'KitchenQual', 'Functional', 'FireplaceQu',\n",
       "       'GarageType', 'GarageFinish', 'GarageCars', 'GarageArea', 'GarageQual',\n",
       "       'GarageCond', 'PoolQC', 'Fence', 'MiscFeature', 'SaleType'],\n",
       "      dtype='object')"
      ]
     },
     "execution_count": 16,
     "metadata": {},
     "output_type": "execute_result"
    }
   ],
   "source": [
    "#check any columns with null values\n",
    "all_cols_na = all_data.columns[all_data.isnull().any()]\n",
    "all_cols_na"
   ]
  },
  {
   "cell_type": "code",
   "execution_count": 17,
   "id": "b20623e6",
   "metadata": {
    "execution": {
     "iopub.execute_input": "2022-04-14T14:18:53.682807Z",
     "iopub.status.busy": "2022-04-14T14:18:53.682022Z",
     "iopub.status.idle": "2022-04-14T14:18:53.708890Z",
     "shell.execute_reply": "2022-04-14T14:18:53.709441Z",
     "shell.execute_reply.started": "2022-04-14T14:18:01.912020Z"
    },
    "papermill": {
     "duration": 0.069793,
     "end_time": "2022-04-14T14:18:53.709627",
     "exception": false,
     "start_time": "2022-04-14T14:18:53.639834",
     "status": "completed"
    },
    "tags": []
   },
   "outputs": [
    {
     "data": {
      "text/html": [
       "<div>\n",
       "<style scoped>\n",
       "    .dataframe tbody tr th:only-of-type {\n",
       "        vertical-align: middle;\n",
       "    }\n",
       "\n",
       "    .dataframe tbody tr th {\n",
       "        vertical-align: top;\n",
       "    }\n",
       "\n",
       "    .dataframe thead th {\n",
       "        text-align: right;\n",
       "    }\n",
       "</style>\n",
       "<table border=\"1\" class=\"dataframe\">\n",
       "  <thead>\n",
       "    <tr style=\"text-align: right;\">\n",
       "      <th></th>\n",
       "      <th>Missing Ratio</th>\n",
       "    </tr>\n",
       "  </thead>\n",
       "  <tbody>\n",
       "    <tr>\n",
       "      <th>PoolQC</th>\n",
       "      <td>199.246575</td>\n",
       "    </tr>\n",
       "    <tr>\n",
       "      <th>MiscFeature</th>\n",
       "      <td>192.739726</td>\n",
       "    </tr>\n",
       "    <tr>\n",
       "      <th>Alley</th>\n",
       "      <td>186.369863</td>\n",
       "    </tr>\n",
       "    <tr>\n",
       "      <th>Fence</th>\n",
       "      <td>160.821918</td>\n",
       "    </tr>\n",
       "    <tr>\n",
       "      <th>FireplaceQu</th>\n",
       "      <td>97.260274</td>\n",
       "    </tr>\n",
       "    <tr>\n",
       "      <th>LotFrontage</th>\n",
       "      <td>33.287671</td>\n",
       "    </tr>\n",
       "    <tr>\n",
       "      <th>GarageFinish</th>\n",
       "      <td>10.890411</td>\n",
       "    </tr>\n",
       "    <tr>\n",
       "      <th>GarageQual</th>\n",
       "      <td>10.890411</td>\n",
       "    </tr>\n",
       "    <tr>\n",
       "      <th>GarageCond</th>\n",
       "      <td>10.890411</td>\n",
       "    </tr>\n",
       "    <tr>\n",
       "      <th>GarageType</th>\n",
       "      <td>10.753425</td>\n",
       "    </tr>\n",
       "    <tr>\n",
       "      <th>BsmtExposure</th>\n",
       "      <td>5.616438</td>\n",
       "    </tr>\n",
       "    <tr>\n",
       "      <th>BsmtCond</th>\n",
       "      <td>5.616438</td>\n",
       "    </tr>\n",
       "    <tr>\n",
       "      <th>BsmtQual</th>\n",
       "      <td>5.547945</td>\n",
       "    </tr>\n",
       "    <tr>\n",
       "      <th>BsmtFinType2</th>\n",
       "      <td>5.479452</td>\n",
       "    </tr>\n",
       "    <tr>\n",
       "      <th>BsmtFinType1</th>\n",
       "      <td>5.410959</td>\n",
       "    </tr>\n",
       "    <tr>\n",
       "      <th>MasVnrType</th>\n",
       "      <td>1.643836</td>\n",
       "    </tr>\n",
       "    <tr>\n",
       "      <th>MasVnrArea</th>\n",
       "      <td>1.575342</td>\n",
       "    </tr>\n",
       "    <tr>\n",
       "      <th>MSZoning</th>\n",
       "      <td>0.273973</td>\n",
       "    </tr>\n",
       "    <tr>\n",
       "      <th>BsmtFullBath</th>\n",
       "      <td>0.136986</td>\n",
       "    </tr>\n",
       "    <tr>\n",
       "      <th>BsmtHalfBath</th>\n",
       "      <td>0.136986</td>\n",
       "    </tr>\n",
       "  </tbody>\n",
       "</table>\n",
       "</div>"
      ],
      "text/plain": [
       "              Missing Ratio\n",
       "PoolQC           199.246575\n",
       "MiscFeature      192.739726\n",
       "Alley            186.369863\n",
       "Fence            160.821918\n",
       "FireplaceQu       97.260274\n",
       "LotFrontage       33.287671\n",
       "GarageFinish      10.890411\n",
       "GarageQual        10.890411\n",
       "GarageCond        10.890411\n",
       "GarageType        10.753425\n",
       "BsmtExposure       5.616438\n",
       "BsmtCond           5.616438\n",
       "BsmtQual           5.547945\n",
       "BsmtFinType2       5.479452\n",
       "BsmtFinType1       5.410959\n",
       "MasVnrType         1.643836\n",
       "MasVnrArea         1.575342\n",
       "MSZoning           0.273973\n",
       "BsmtFullBath       0.136986\n",
       "BsmtHalfBath       0.136986"
      ]
     },
     "execution_count": 17,
     "metadata": {},
     "output_type": "execute_result"
    }
   ],
   "source": [
    "all_data_na = (all_data.isnull().sum() / len(X_full)) * 100\n",
    "all_data_na = all_data_na.drop(all_data_na[all_data_na == 0].index).sort_values(ascending=False)[:30]\n",
    "missing_data = pd.DataFrame({'Missing Ratio' :all_data_na})\n",
    "missing_data.head(20)"
   ]
  },
  {
   "cell_type": "code",
   "execution_count": 18,
   "id": "7dd15b73",
   "metadata": {
    "execution": {
     "iopub.execute_input": "2022-04-14T14:18:53.794515Z",
     "iopub.status.busy": "2022-04-14T14:18:53.793850Z",
     "iopub.status.idle": "2022-04-14T14:18:53.809202Z",
     "shell.execute_reply": "2022-04-14T14:18:53.809686Z",
     "shell.execute_reply.started": "2022-04-14T14:18:01.995597Z"
    },
    "papermill": {
     "duration": 0.059347,
     "end_time": "2022-04-14T14:18:53.809867",
     "exception": false,
     "start_time": "2022-04-14T14:18:53.750520",
     "status": "completed"
    },
    "tags": []
   },
   "outputs": [
    {
     "data": {
      "text/html": [
       "<div>\n",
       "<style scoped>\n",
       "    .dataframe tbody tr th:only-of-type {\n",
       "        vertical-align: middle;\n",
       "    }\n",
       "\n",
       "    .dataframe tbody tr th {\n",
       "        vertical-align: top;\n",
       "    }\n",
       "\n",
       "    .dataframe thead th {\n",
       "        text-align: right;\n",
       "    }\n",
       "</style>\n",
       "<table border=\"1\" class=\"dataframe\">\n",
       "  <thead>\n",
       "    <tr style=\"text-align: right;\">\n",
       "      <th></th>\n",
       "      <th>Id</th>\n",
       "      <th>MSSubClass</th>\n",
       "      <th>MSZoning</th>\n",
       "      <th>LotFrontage</th>\n",
       "      <th>LotArea</th>\n",
       "      <th>Street</th>\n",
       "      <th>Alley</th>\n",
       "      <th>LotShape</th>\n",
       "      <th>LandContour</th>\n",
       "      <th>Utilities</th>\n",
       "      <th>...</th>\n",
       "      <th>ScreenPorch</th>\n",
       "      <th>PoolArea</th>\n",
       "      <th>PoolQC</th>\n",
       "      <th>Fence</th>\n",
       "      <th>MiscFeature</th>\n",
       "      <th>MiscVal</th>\n",
       "      <th>MoSold</th>\n",
       "      <th>YrSold</th>\n",
       "      <th>SaleType</th>\n",
       "      <th>SaleCondition</th>\n",
       "    </tr>\n",
       "  </thead>\n",
       "  <tbody>\n",
       "  </tbody>\n",
       "</table>\n",
       "<p>0 rows × 80 columns</p>\n",
       "</div>"
      ],
      "text/plain": [
       "Empty DataFrame\n",
       "Columns: [Id, MSSubClass, MSZoning, LotFrontage, LotArea, Street, Alley, LotShape, LandContour, Utilities, LotConfig, LandSlope, Neighborhood, Condition1, Condition2, BldgType, HouseStyle, OverallQual, OverallCond, YearBuilt, YearRemodAdd, RoofStyle, RoofMatl, Exterior1st, Exterior2nd, MasVnrType, MasVnrArea, ExterQual, ExterCond, Foundation, BsmtQual, BsmtCond, BsmtExposure, BsmtFinType1, BsmtFinSF1, BsmtFinType2, BsmtFinSF2, BsmtUnfSF, TotalBsmtSF, Heating, HeatingQC, CentralAir, Electrical, 1stFlrSF, 2ndFlrSF, LowQualFinSF, GrLivArea, BsmtFullBath, BsmtHalfBath, FullBath, HalfBath, BedroomAbvGr, KitchenAbvGr, KitchenQual, TotRmsAbvGrd, Functional, Fireplaces, FireplaceQu, GarageType, GarageYrBlt, GarageFinish, GarageCars, GarageArea, GarageQual, GarageCond, PavedDrive, WoodDeckSF, OpenPorchSF, EnclosedPorch, 3SsnPorch, ScreenPorch, PoolArea, PoolQC, Fence, MiscFeature, MiscVal, MoSold, YrSold, SaleType, SaleCondition]\n",
       "Index: []\n",
       "\n",
       "[0 rows x 80 columns]"
      ]
     },
     "execution_count": 18,
     "metadata": {},
     "output_type": "execute_result"
    }
   ],
   "source": [
    "#check if missing GarageYrBlt but there is actually a Garage\n",
    "all_data[all_data['GarageYrBlt'].isnull() & all_data['GarageArea'] > 0]"
   ]
  },
  {
   "cell_type": "markdown",
   "id": "4a70a72b",
   "metadata": {
    "papermill": {
     "duration": 0.040454,
     "end_time": "2022-04-14T14:18:53.891381",
     "exception": false,
     "start_time": "2022-04-14T14:18:53.850927",
     "status": "completed"
    },
    "tags": []
   },
   "source": [
    "Since null GarageYrBlt means there is no garage, we'll fill it as 0. For the following columns, we'll fill them NA / None / 0 according to the data description. LotFrontage will be median of Neighbour's. For the rest, we'll fill with SimpleImputer.\n",
    "\n",
    "'Alley' : \"NA\" 'MasVnrType': \"None\" 'MasVnrArea': 0 'BsmtQual': \"NA\"\n",
    "'BsmtCond': \"NA\" 'BsmtExposure' : \"NA\" 'BsmtFinType1': \"NA\" 'BsmtFinType2': \"NA\" 'FireplaceQu': \"NA\" 'GarageType': \"NA\" 'GarageYrBlt': 0\n",
    "'GarageFinish': \"NA\" 'GarageQual': \"NA\" 'GarageCond': \"NA\" 'PoolQC': \"NA\" 'Fence': \"NA\"\n",
    "'MiscFeature': \"NA\""
   ]
  },
  {
   "cell_type": "code",
   "execution_count": 19,
   "id": "8d5c2995",
   "metadata": {
    "execution": {
     "iopub.execute_input": "2022-04-14T14:18:53.982706Z",
     "iopub.status.busy": "2022-04-14T14:18:53.981634Z",
     "iopub.status.idle": "2022-04-14T14:18:53.985484Z",
     "shell.execute_reply": "2022-04-14T14:18:53.986016Z",
     "shell.execute_reply.started": "2022-04-14T14:18:02.087809Z"
    },
    "papermill": {
     "duration": 0.054199,
     "end_time": "2022-04-14T14:18:53.986193",
     "exception": false,
     "start_time": "2022-04-14T14:18:53.931994",
     "status": "completed"
    },
    "tags": []
   },
   "outputs": [
    {
     "data": {
      "text/plain": [
       "['Exterior2nd',\n",
       " 'Functional',\n",
       " 'Utilities',\n",
       " 'Electrical',\n",
       " 'KitchenQual',\n",
       " 'MSZoning',\n",
       " 'SaleType',\n",
       " 'Exterior1st']"
      ]
     },
     "execution_count": 19,
     "metadata": {},
     "output_type": "execute_result"
    }
   ],
   "source": [
    "#Fill null values with custom values\n",
    "\n",
    "cols_with_NA = ['PoolQC','MiscFeature','Alley','Fence','FireplaceQu',\n",
    "                'GarageType','GarageFinish','GarageQual','GarageCond',\n",
    "               'BsmtExposure','BsmtFinType1','BsmtFinType2','BsmtCond','BsmtQual','MasVnrType']\n",
    "cols_with_zero = ['LotFrontage','GarageYrBlt','MasVnrArea','GarageCars','BsmtFullBath','BsmtHalfBath',\n",
    "                  'BsmtUnfSF','TotalBsmtSF','GarageCars','GarageArea','BsmtFinSF1','BsmtFinSF2']\n",
    "other_cols= list(set(all_cols_na) - set(cols_with_NA) - set(cols_with_zero))\n",
    "\n",
    "other_cols"
   ]
  },
  {
   "cell_type": "code",
   "execution_count": 20,
   "id": "3094e0da",
   "metadata": {
    "execution": {
     "iopub.execute_input": "2022-04-14T14:18:54.073984Z",
     "iopub.status.busy": "2022-04-14T14:18:54.072548Z",
     "iopub.status.idle": "2022-04-14T14:18:54.076889Z",
     "shell.execute_reply": "2022-04-14T14:18:54.076123Z",
     "shell.execute_reply.started": "2022-04-14T14:18:02.181812Z"
    },
    "papermill": {
     "duration": 0.049414,
     "end_time": "2022-04-14T14:18:54.077046",
     "exception": false,
     "start_time": "2022-04-14T14:18:54.027632",
     "status": "completed"
    },
    "tags": []
   },
   "outputs": [],
   "source": [
    "#for col in cols_with_NA: all_data[col].fillna(\"NA\",inplace=True)\n",
    "#for col in cols_with_zero: all_data[col].fillna(0, inplace=True)"
   ]
  },
  {
   "cell_type": "code",
   "execution_count": 21,
   "id": "a4c8bce8",
   "metadata": {
    "execution": {
     "iopub.execute_input": "2022-04-14T14:18:54.197187Z",
     "iopub.status.busy": "2022-04-14T14:18:54.185293Z",
     "iopub.status.idle": "2022-04-14T14:18:54.200645Z",
     "shell.execute_reply": "2022-04-14T14:18:54.200009Z",
     "shell.execute_reply.started": "2022-04-14T14:18:02.244707Z"
    },
    "papermill": {
     "duration": 0.082312,
     "end_time": "2022-04-14T14:18:54.200796",
     "exception": false,
     "start_time": "2022-04-14T14:18:54.118484",
     "status": "completed"
    },
    "tags": []
   },
   "outputs": [],
   "source": [
    "cols_with_missing = [col for col in  all_data.columns\n",
    "                      if all_data[col].isnull().any()]\n",
    "                     \n",
    "\n",
    "all_data = all_data.drop(cols_with_missing, axis=1)"
   ]
  },
  {
   "cell_type": "code",
   "execution_count": 22,
   "id": "c3a58669",
   "metadata": {
    "execution": {
     "iopub.execute_input": "2022-04-14T14:18:54.291964Z",
     "iopub.status.busy": "2022-04-14T14:18:54.290956Z",
     "iopub.status.idle": "2022-04-14T14:18:54.293758Z",
     "shell.execute_reply": "2022-04-14T14:18:54.294240Z",
     "shell.execute_reply.started": "2022-04-14T14:18:02.299424Z"
    },
    "papermill": {
     "duration": 0.051915,
     "end_time": "2022-04-14T14:18:54.294484",
     "exception": false,
     "start_time": "2022-04-14T14:18:54.242569",
     "status": "completed"
    },
    "tags": []
   },
   "outputs": [],
   "source": [
    "X_full = all_data[:ntrain]\n",
    "X_test = all_data[ntrain:]"
   ]
  },
  {
   "cell_type": "code",
   "execution_count": 23,
   "id": "1a1cb3bb",
   "metadata": {
    "execution": {
     "iopub.execute_input": "2022-04-14T14:18:54.382338Z",
     "iopub.status.busy": "2022-04-14T14:18:54.381352Z",
     "iopub.status.idle": "2022-04-14T14:18:54.384297Z",
     "shell.execute_reply": "2022-04-14T14:18:54.383689Z",
     "shell.execute_reply.started": "2022-04-14T14:18:02.362647Z"
    },
    "papermill": {
     "duration": 0.04856,
     "end_time": "2022-04-14T14:18:54.384458",
     "exception": false,
     "start_time": "2022-04-14T14:18:54.335898",
     "status": "completed"
    },
    "tags": []
   },
   "outputs": [],
   "source": [
    "#X_full = X_full.fillna(X_full.agg(lambda x: pd.Series.mode(x)[0], axis=0))\n",
    "#X_test = X_test.fillna(X_test.agg(lambda x: pd.Series.mode(x)[0], axis=0))"
   ]
  },
  {
   "cell_type": "code",
   "execution_count": 24,
   "id": "3283181f",
   "metadata": {
    "execution": {
     "iopub.execute_input": "2022-04-14T14:18:54.487754Z",
     "iopub.status.busy": "2022-04-14T14:18:54.487054Z",
     "iopub.status.idle": "2022-04-14T14:18:54.491497Z",
     "shell.execute_reply": "2022-04-14T14:18:54.490821Z",
     "shell.execute_reply.started": "2022-04-14T14:18:02.427659Z"
    },
    "papermill": {
     "duration": 0.06568,
     "end_time": "2022-04-14T14:18:54.491647",
     "exception": false,
     "start_time": "2022-04-14T14:18:54.425967",
     "status": "completed"
    },
    "tags": []
   },
   "outputs": [
    {
     "data": {
      "text/html": [
       "<div>\n",
       "<style scoped>\n",
       "    .dataframe tbody tr th:only-of-type {\n",
       "        vertical-align: middle;\n",
       "    }\n",
       "\n",
       "    .dataframe tbody tr th {\n",
       "        vertical-align: top;\n",
       "    }\n",
       "\n",
       "    .dataframe thead th {\n",
       "        text-align: right;\n",
       "    }\n",
       "</style>\n",
       "<table border=\"1\" class=\"dataframe\">\n",
       "  <thead>\n",
       "    <tr style=\"text-align: right;\">\n",
       "      <th></th>\n",
       "      <th>Id</th>\n",
       "      <th>MSSubClass</th>\n",
       "      <th>LotArea</th>\n",
       "      <th>Street</th>\n",
       "      <th>LotShape</th>\n",
       "      <th>LandContour</th>\n",
       "      <th>LotConfig</th>\n",
       "      <th>LandSlope</th>\n",
       "      <th>Neighborhood</th>\n",
       "      <th>Condition1</th>\n",
       "      <th>...</th>\n",
       "      <th>WoodDeckSF</th>\n",
       "      <th>OpenPorchSF</th>\n",
       "      <th>EnclosedPorch</th>\n",
       "      <th>3SsnPorch</th>\n",
       "      <th>ScreenPorch</th>\n",
       "      <th>PoolArea</th>\n",
       "      <th>MiscVal</th>\n",
       "      <th>MoSold</th>\n",
       "      <th>YrSold</th>\n",
       "      <th>SaleCondition</th>\n",
       "    </tr>\n",
       "  </thead>\n",
       "  <tbody>\n",
       "    <tr>\n",
       "      <th>1460</th>\n",
       "      <td>1461</td>\n",
       "      <td>20</td>\n",
       "      <td>11622</td>\n",
       "      <td>Pave</td>\n",
       "      <td>Reg</td>\n",
       "      <td>Lvl</td>\n",
       "      <td>Inside</td>\n",
       "      <td>Gtl</td>\n",
       "      <td>NAmes</td>\n",
       "      <td>Feedr</td>\n",
       "      <td>...</td>\n",
       "      <td>140</td>\n",
       "      <td>0</td>\n",
       "      <td>0</td>\n",
       "      <td>0</td>\n",
       "      <td>120</td>\n",
       "      <td>0</td>\n",
       "      <td>0</td>\n",
       "      <td>6</td>\n",
       "      <td>2010</td>\n",
       "      <td>Normal</td>\n",
       "    </tr>\n",
       "    <tr>\n",
       "      <th>1461</th>\n",
       "      <td>1462</td>\n",
       "      <td>20</td>\n",
       "      <td>14267</td>\n",
       "      <td>Pave</td>\n",
       "      <td>IR1</td>\n",
       "      <td>Lvl</td>\n",
       "      <td>Corner</td>\n",
       "      <td>Gtl</td>\n",
       "      <td>NAmes</td>\n",
       "      <td>Norm</td>\n",
       "      <td>...</td>\n",
       "      <td>393</td>\n",
       "      <td>36</td>\n",
       "      <td>0</td>\n",
       "      <td>0</td>\n",
       "      <td>0</td>\n",
       "      <td>0</td>\n",
       "      <td>12500</td>\n",
       "      <td>6</td>\n",
       "      <td>2010</td>\n",
       "      <td>Normal</td>\n",
       "    </tr>\n",
       "    <tr>\n",
       "      <th>1462</th>\n",
       "      <td>1463</td>\n",
       "      <td>60</td>\n",
       "      <td>13830</td>\n",
       "      <td>Pave</td>\n",
       "      <td>IR1</td>\n",
       "      <td>Lvl</td>\n",
       "      <td>Inside</td>\n",
       "      <td>Gtl</td>\n",
       "      <td>Gilbert</td>\n",
       "      <td>Norm</td>\n",
       "      <td>...</td>\n",
       "      <td>212</td>\n",
       "      <td>34</td>\n",
       "      <td>0</td>\n",
       "      <td>0</td>\n",
       "      <td>0</td>\n",
       "      <td>0</td>\n",
       "      <td>0</td>\n",
       "      <td>3</td>\n",
       "      <td>2010</td>\n",
       "      <td>Normal</td>\n",
       "    </tr>\n",
       "    <tr>\n",
       "      <th>1463</th>\n",
       "      <td>1464</td>\n",
       "      <td>60</td>\n",
       "      <td>9978</td>\n",
       "      <td>Pave</td>\n",
       "      <td>IR1</td>\n",
       "      <td>Lvl</td>\n",
       "      <td>Inside</td>\n",
       "      <td>Gtl</td>\n",
       "      <td>Gilbert</td>\n",
       "      <td>Norm</td>\n",
       "      <td>...</td>\n",
       "      <td>360</td>\n",
       "      <td>36</td>\n",
       "      <td>0</td>\n",
       "      <td>0</td>\n",
       "      <td>0</td>\n",
       "      <td>0</td>\n",
       "      <td>0</td>\n",
       "      <td>6</td>\n",
       "      <td>2010</td>\n",
       "      <td>Normal</td>\n",
       "    </tr>\n",
       "    <tr>\n",
       "      <th>1464</th>\n",
       "      <td>1465</td>\n",
       "      <td>120</td>\n",
       "      <td>5005</td>\n",
       "      <td>Pave</td>\n",
       "      <td>IR1</td>\n",
       "      <td>HLS</td>\n",
       "      <td>Inside</td>\n",
       "      <td>Gtl</td>\n",
       "      <td>StoneBr</td>\n",
       "      <td>Norm</td>\n",
       "      <td>...</td>\n",
       "      <td>0</td>\n",
       "      <td>82</td>\n",
       "      <td>0</td>\n",
       "      <td>0</td>\n",
       "      <td>144</td>\n",
       "      <td>0</td>\n",
       "      <td>0</td>\n",
       "      <td>1</td>\n",
       "      <td>2010</td>\n",
       "      <td>Normal</td>\n",
       "    </tr>\n",
       "  </tbody>\n",
       "</table>\n",
       "<p>5 rows × 47 columns</p>\n",
       "</div>"
      ],
      "text/plain": [
       "        Id  MSSubClass  LotArea Street LotShape LandContour LotConfig  \\\n",
       "1460  1461          20    11622   Pave      Reg         Lvl    Inside   \n",
       "1461  1462          20    14267   Pave      IR1         Lvl    Corner   \n",
       "1462  1463          60    13830   Pave      IR1         Lvl    Inside   \n",
       "1463  1464          60     9978   Pave      IR1         Lvl    Inside   \n",
       "1464  1465         120     5005   Pave      IR1         HLS    Inside   \n",
       "\n",
       "     LandSlope Neighborhood Condition1  ... WoodDeckSF OpenPorchSF  \\\n",
       "1460       Gtl        NAmes      Feedr  ...        140           0   \n",
       "1461       Gtl        NAmes       Norm  ...        393          36   \n",
       "1462       Gtl      Gilbert       Norm  ...        212          34   \n",
       "1463       Gtl      Gilbert       Norm  ...        360          36   \n",
       "1464       Gtl      StoneBr       Norm  ...          0          82   \n",
       "\n",
       "     EnclosedPorch  3SsnPorch  ScreenPorch  PoolArea  MiscVal MoSold YrSold  \\\n",
       "1460             0          0          120         0        0      6   2010   \n",
       "1461             0          0            0         0    12500      6   2010   \n",
       "1462             0          0            0         0        0      3   2010   \n",
       "1463             0          0            0         0        0      6   2010   \n",
       "1464             0          0          144         0        0      1   2010   \n",
       "\n",
       "     SaleCondition  \n",
       "1460        Normal  \n",
       "1461        Normal  \n",
       "1462        Normal  \n",
       "1463        Normal  \n",
       "1464        Normal  \n",
       "\n",
       "[5 rows x 47 columns]"
      ]
     },
     "execution_count": 24,
     "metadata": {},
     "output_type": "execute_result"
    }
   ],
   "source": [
    "X_test.head()"
   ]
  },
  {
   "cell_type": "code",
   "execution_count": 25,
   "id": "d2b3f69c",
   "metadata": {
    "execution": {
     "iopub.execute_input": "2022-04-14T14:18:54.588712Z",
     "iopub.status.busy": "2022-04-14T14:18:54.587998Z",
     "iopub.status.idle": "2022-04-14T14:18:54.591708Z",
     "shell.execute_reply": "2022-04-14T14:18:54.591104Z",
     "shell.execute_reply.started": "2022-04-14T14:18:02.515539Z"
    },
    "papermill": {
     "duration": 0.056784,
     "end_time": "2022-04-14T14:18:54.591849",
     "exception": false,
     "start_time": "2022-04-14T14:18:54.535065",
     "status": "completed"
    },
    "tags": []
   },
   "outputs": [
    {
     "data": {
      "text/plain": [
       "Index([], dtype='object')"
      ]
     },
     "execution_count": 25,
     "metadata": {},
     "output_type": "execute_result"
    }
   ],
   "source": [
    "X_full.columns[X_full.isnull().any()]\n",
    "#X_full_Id = X_full.pop('Id')"
   ]
  },
  {
   "cell_type": "code",
   "execution_count": 26,
   "id": "4261c30f",
   "metadata": {
    "execution": {
     "iopub.execute_input": "2022-04-14T14:18:54.682617Z",
     "iopub.status.busy": "2022-04-14T14:18:54.681875Z",
     "iopub.status.idle": "2022-04-14T14:18:54.691914Z",
     "shell.execute_reply": "2022-04-14T14:18:54.691286Z",
     "shell.execute_reply.started": "2022-04-14T14:18:02.595461Z"
    },
    "papermill": {
     "duration": 0.057234,
     "end_time": "2022-04-14T14:18:54.692062",
     "exception": false,
     "start_time": "2022-04-14T14:18:54.634828",
     "status": "completed"
    },
    "tags": []
   },
   "outputs": [
    {
     "data": {
      "text/plain": [
       "Index([], dtype='object')"
      ]
     },
     "execution_count": 26,
     "metadata": {},
     "output_type": "execute_result"
    }
   ],
   "source": [
    "X_test.columns[X_test.isnull().any()]\n",
    "#X_test_Id=X_test.pop('Id')"
   ]
  },
  {
   "cell_type": "code",
   "execution_count": 27,
   "id": "b904f3ec",
   "metadata": {
    "execution": {
     "iopub.execute_input": "2022-04-14T14:18:54.788599Z",
     "iopub.status.busy": "2022-04-14T14:18:54.787910Z",
     "iopub.status.idle": "2022-04-14T14:18:54.791092Z",
     "shell.execute_reply": "2022-04-14T14:18:54.790525Z",
     "shell.execute_reply.started": "2022-04-14T14:18:02.652046Z"
    },
    "papermill": {
     "duration": 0.056269,
     "end_time": "2022-04-14T14:18:54.791233",
     "exception": false,
     "start_time": "2022-04-14T14:18:54.734964",
     "status": "completed"
    },
    "tags": []
   },
   "outputs": [],
   "source": [
    "X_full = X_full.select_dtypes(exclude=['object'])\n",
    "X_test = X_test.select_dtypes(exclude=['object']) \n"
   ]
  },
  {
   "cell_type": "code",
   "execution_count": 28,
   "id": "58474142",
   "metadata": {
    "execution": {
     "iopub.execute_input": "2022-04-14T14:18:54.924614Z",
     "iopub.status.busy": "2022-04-14T14:18:54.888068Z",
     "iopub.status.idle": "2022-04-14T14:18:55.838942Z",
     "shell.execute_reply": "2022-04-14T14:18:55.838323Z",
     "shell.execute_reply.started": "2022-04-14T14:18:02.664737Z"
    },
    "papermill": {
     "duration": 1.004728,
     "end_time": "2022-04-14T14:18:55.839093",
     "exception": false,
     "start_time": "2022-04-14T14:18:54.834365",
     "status": "completed"
    },
    "tags": []
   },
   "outputs": [
    {
     "name": "stdout",
     "output_type": "stream",
     "text": [
      "19586.28366438356\n"
     ]
    }
   ],
   "source": [
    "print(score_dataset(X_full, y_train))"
   ]
  },
  {
   "cell_type": "code",
   "execution_count": 29,
   "id": "24ee6b60",
   "metadata": {
    "execution": {
     "iopub.execute_input": "2022-04-14T14:18:55.933247Z",
     "iopub.status.busy": "2022-04-14T14:18:55.932519Z",
     "iopub.status.idle": "2022-04-14T14:18:55.950504Z",
     "shell.execute_reply": "2022-04-14T14:18:55.951053Z",
     "shell.execute_reply.started": "2022-04-14T14:18:03.559221Z"
    },
    "papermill": {
     "duration": 0.068025,
     "end_time": "2022-04-14T14:18:55.951223",
     "exception": false,
     "start_time": "2022-04-14T14:18:55.883198",
     "status": "completed"
    },
    "tags": []
   },
   "outputs": [
    {
     "data": {
      "text/html": [
       "<div>\n",
       "<style scoped>\n",
       "    .dataframe tbody tr th:only-of-type {\n",
       "        vertical-align: middle;\n",
       "    }\n",
       "\n",
       "    .dataframe tbody tr th {\n",
       "        vertical-align: top;\n",
       "    }\n",
       "\n",
       "    .dataframe thead th {\n",
       "        text-align: right;\n",
       "    }\n",
       "</style>\n",
       "<table border=\"1\" class=\"dataframe\">\n",
       "  <thead>\n",
       "    <tr style=\"text-align: right;\">\n",
       "      <th></th>\n",
       "      <th>Id</th>\n",
       "      <th>MSSubClass</th>\n",
       "      <th>LotArea</th>\n",
       "      <th>OverallQual</th>\n",
       "      <th>OverallCond</th>\n",
       "      <th>YearBuilt</th>\n",
       "      <th>YearRemodAdd</th>\n",
       "      <th>1stFlrSF</th>\n",
       "      <th>2ndFlrSF</th>\n",
       "      <th>LowQualFinSF</th>\n",
       "      <th>...</th>\n",
       "      <th>GarageYrBlt</th>\n",
       "      <th>WoodDeckSF</th>\n",
       "      <th>OpenPorchSF</th>\n",
       "      <th>EnclosedPorch</th>\n",
       "      <th>3SsnPorch</th>\n",
       "      <th>ScreenPorch</th>\n",
       "      <th>PoolArea</th>\n",
       "      <th>MiscVal</th>\n",
       "      <th>MoSold</th>\n",
       "      <th>YrSold</th>\n",
       "    </tr>\n",
       "  </thead>\n",
       "  <tbody>\n",
       "    <tr>\n",
       "      <th>1460</th>\n",
       "      <td>1461</td>\n",
       "      <td>20</td>\n",
       "      <td>11622</td>\n",
       "      <td>5</td>\n",
       "      <td>6</td>\n",
       "      <td>1961</td>\n",
       "      <td>1961</td>\n",
       "      <td>896</td>\n",
       "      <td>0</td>\n",
       "      <td>0</td>\n",
       "      <td>...</td>\n",
       "      <td>1961.0</td>\n",
       "      <td>140</td>\n",
       "      <td>0</td>\n",
       "      <td>0</td>\n",
       "      <td>0</td>\n",
       "      <td>120</td>\n",
       "      <td>0</td>\n",
       "      <td>0</td>\n",
       "      <td>6</td>\n",
       "      <td>2010</td>\n",
       "    </tr>\n",
       "    <tr>\n",
       "      <th>1461</th>\n",
       "      <td>1462</td>\n",
       "      <td>20</td>\n",
       "      <td>14267</td>\n",
       "      <td>6</td>\n",
       "      <td>6</td>\n",
       "      <td>1958</td>\n",
       "      <td>1958</td>\n",
       "      <td>1329</td>\n",
       "      <td>0</td>\n",
       "      <td>0</td>\n",
       "      <td>...</td>\n",
       "      <td>1958.0</td>\n",
       "      <td>393</td>\n",
       "      <td>36</td>\n",
       "      <td>0</td>\n",
       "      <td>0</td>\n",
       "      <td>0</td>\n",
       "      <td>0</td>\n",
       "      <td>12500</td>\n",
       "      <td>6</td>\n",
       "      <td>2010</td>\n",
       "    </tr>\n",
       "    <tr>\n",
       "      <th>1462</th>\n",
       "      <td>1463</td>\n",
       "      <td>60</td>\n",
       "      <td>13830</td>\n",
       "      <td>5</td>\n",
       "      <td>5</td>\n",
       "      <td>1997</td>\n",
       "      <td>1997</td>\n",
       "      <td>928</td>\n",
       "      <td>701</td>\n",
       "      <td>0</td>\n",
       "      <td>...</td>\n",
       "      <td>1997.0</td>\n",
       "      <td>212</td>\n",
       "      <td>34</td>\n",
       "      <td>0</td>\n",
       "      <td>0</td>\n",
       "      <td>0</td>\n",
       "      <td>0</td>\n",
       "      <td>0</td>\n",
       "      <td>3</td>\n",
       "      <td>2010</td>\n",
       "    </tr>\n",
       "    <tr>\n",
       "      <th>1463</th>\n",
       "      <td>1464</td>\n",
       "      <td>60</td>\n",
       "      <td>9978</td>\n",
       "      <td>6</td>\n",
       "      <td>6</td>\n",
       "      <td>1998</td>\n",
       "      <td>1998</td>\n",
       "      <td>926</td>\n",
       "      <td>678</td>\n",
       "      <td>0</td>\n",
       "      <td>...</td>\n",
       "      <td>1998.0</td>\n",
       "      <td>360</td>\n",
       "      <td>36</td>\n",
       "      <td>0</td>\n",
       "      <td>0</td>\n",
       "      <td>0</td>\n",
       "      <td>0</td>\n",
       "      <td>0</td>\n",
       "      <td>6</td>\n",
       "      <td>2010</td>\n",
       "    </tr>\n",
       "    <tr>\n",
       "      <th>1464</th>\n",
       "      <td>1465</td>\n",
       "      <td>120</td>\n",
       "      <td>5005</td>\n",
       "      <td>8</td>\n",
       "      <td>5</td>\n",
       "      <td>1992</td>\n",
       "      <td>1992</td>\n",
       "      <td>1280</td>\n",
       "      <td>0</td>\n",
       "      <td>0</td>\n",
       "      <td>...</td>\n",
       "      <td>1992.0</td>\n",
       "      <td>0</td>\n",
       "      <td>82</td>\n",
       "      <td>0</td>\n",
       "      <td>0</td>\n",
       "      <td>144</td>\n",
       "      <td>0</td>\n",
       "      <td>0</td>\n",
       "      <td>1</td>\n",
       "      <td>2010</td>\n",
       "    </tr>\n",
       "  </tbody>\n",
       "</table>\n",
       "<p>5 rows × 27 columns</p>\n",
       "</div>"
      ],
      "text/plain": [
       "        Id  MSSubClass  LotArea  OverallQual  OverallCond  YearBuilt  \\\n",
       "1460  1461          20    11622            5            6       1961   \n",
       "1461  1462          20    14267            6            6       1958   \n",
       "1462  1463          60    13830            5            5       1997   \n",
       "1463  1464          60     9978            6            6       1998   \n",
       "1464  1465         120     5005            8            5       1992   \n",
       "\n",
       "      YearRemodAdd  1stFlrSF  2ndFlrSF  LowQualFinSF  ...  GarageYrBlt  \\\n",
       "1460          1961       896         0             0  ...       1961.0   \n",
       "1461          1958      1329         0             0  ...       1958.0   \n",
       "1462          1997       928       701             0  ...       1997.0   \n",
       "1463          1998       926       678             0  ...       1998.0   \n",
       "1464          1992      1280         0             0  ...       1992.0   \n",
       "\n",
       "      WoodDeckSF  OpenPorchSF  EnclosedPorch  3SsnPorch  ScreenPorch  \\\n",
       "1460         140            0              0          0          120   \n",
       "1461         393           36              0          0            0   \n",
       "1462         212           34              0          0            0   \n",
       "1463         360           36              0          0            0   \n",
       "1464           0           82              0          0          144   \n",
       "\n",
       "      PoolArea  MiscVal  MoSold  YrSold  \n",
       "1460         0        0       6    2010  \n",
       "1461         0    12500       6    2010  \n",
       "1462         0        0       3    2010  \n",
       "1463         0        0       6    2010  \n",
       "1464         0        0       1    2010  \n",
       "\n",
       "[5 rows x 27 columns]"
      ]
     },
     "execution_count": 29,
     "metadata": {},
     "output_type": "execute_result"
    }
   ],
   "source": [
    "#X_full = X_full_Id + X_full\n",
    "#X_test = X_test_Id + X_test\n",
    "X_test.head()"
   ]
  },
  {
   "cell_type": "code",
   "execution_count": 30,
   "id": "b11a0c3a",
   "metadata": {
    "execution": {
     "iopub.execute_input": "2022-04-14T14:18:56.044933Z",
     "iopub.status.busy": "2022-04-14T14:18:56.044202Z",
     "iopub.status.idle": "2022-04-14T14:18:57.245214Z",
     "shell.execute_reply": "2022-04-14T14:18:57.246293Z",
     "shell.execute_reply.started": "2022-04-14T14:18:03.576832Z"
    },
    "papermill": {
     "duration": 1.251316,
     "end_time": "2022-04-14T14:18:57.246576",
     "exception": false,
     "start_time": "2022-04-14T14:18:55.995260",
     "status": "completed"
    },
    "tags": []
   },
   "outputs": [
    {
     "name": "stdout",
     "output_type": "stream",
     "text": [
      "Your submission was successfully saved!\n"
     ]
    }
   ],
   "source": [
    "\n",
    "\n",
    "                       \n",
    "model = RandomForestRegressor(n_estimators=100, random_state=0)\n",
    "#log_y = np.log1p(y_train)\n",
    "model.fit(X_full, y_train)\n",
    "#predictions = np.expm1(model.predict(X_test)) \n",
    "predictions = model.predict(X_test)\n",
    "\n",
    "output = pd.DataFrame({'Id': X_test.Id, 'SalePrice': predictions})\n",
    "output.to_csv('my_submission.csv', index=False)\n",
    "print(\"Your submission was successfully saved!\")"
   ]
  },
  {
   "cell_type": "code",
   "execution_count": 31,
   "id": "c4dd1efb",
   "metadata": {
    "execution": {
     "iopub.execute_input": "2022-04-14T14:18:57.342236Z",
     "iopub.status.busy": "2022-04-14T14:18:57.341582Z",
     "iopub.status.idle": "2022-04-14T14:18:57.346308Z",
     "shell.execute_reply": "2022-04-14T14:18:57.346870Z",
     "shell.execute_reply.started": "2022-04-14T14:18:04.705883Z"
    },
    "papermill": {
     "duration": 0.053286,
     "end_time": "2022-04-14T14:18:57.347039",
     "exception": false,
     "start_time": "2022-04-14T14:18:57.293753",
     "status": "completed"
    },
    "tags": []
   },
   "outputs": [
    {
     "data": {
      "text/plain": [
       "(1459, 27)"
      ]
     },
     "execution_count": 31,
     "metadata": {},
     "output_type": "execute_result"
    }
   ],
   "source": [
    "X_test.shape"
   ]
  }
 ],
 "metadata": {
  "kernelspec": {
   "display_name": "Python 3",
   "language": "python",
   "name": "python3"
  },
  "language_info": {
   "codemirror_mode": {
    "name": "ipython",
    "version": 3
   },
   "file_extension": ".py",
   "mimetype": "text/x-python",
   "name": "python",
   "nbconvert_exporter": "python",
   "pygments_lexer": "ipython3",
   "version": "3.7.12"
  },
  "papermill": {
   "default_parameters": {},
   "duration": 18.642099,
   "end_time": "2022-04-14T14:18:58.102962",
   "environment_variables": {},
   "exception": null,
   "input_path": "__notebook__.ipynb",
   "output_path": "__notebook__.ipynb",
   "parameters": {},
   "start_time": "2022-04-14T14:18:39.460863",
   "version": "2.3.3"
  }
 },
 "nbformat": 4,
 "nbformat_minor": 5
}
